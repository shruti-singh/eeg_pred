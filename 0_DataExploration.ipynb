{
 "cells": [
  {
   "cell_type": "code",
   "execution_count": 51,
   "metadata": {},
   "outputs": [],
   "source": [
    "import numpy as np\n",
    "import scipy.io\n",
    "import os\n",
    "from collections import defaultdict"
   ]
  },
  {
   "cell_type": "code",
   "execution_count": 44,
   "metadata": {},
   "outputs": [],
   "source": [
    "from utils_ZuCo import *"
   ]
  },
  {
   "cell_type": "code",
   "execution_count": 59,
   "metadata": {},
   "outputs": [],
   "source": [
    "dataset_dir = \"/home/singh_shruti/ZuCo_dataset/\""
   ]
  },
  {
   "cell_type": "code",
   "execution_count": 60,
   "metadata": {},
   "outputs": [],
   "source": [
    "task1_dir = dataset_dir + \"task1_sr/Matlab files/\"\n",
    "task2_dir = dataset_dir + \"task2_nr/Matlab files/\"\n",
    "task3_dir = dataset_dir + \"task3_tsr/Matlab files/\""
   ]
  },
  {
   "cell_type": "code",
   "execution_count": null,
   "metadata": {},
   "outputs": [],
   "source": []
  },
  {
   "cell_type": "code",
   "execution_count": null,
   "metadata": {},
   "outputs": [],
   "source": []
  },
  {
   "cell_type": "markdown",
   "metadata": {},
   "source": [
    "## Read data"
   ]
  },
  {
   "cell_type": "code",
   "execution_count": 61,
   "metadata": {},
   "outputs": [],
   "source": [
    "subjects = ['ZAB', 'ZDM', 'ZGW', 'ZJM', 'ZJN', 'ZJS', 'ZKB', 'ZKH','ZKW', 'ZMG', 'ZPH', 'ZDN']"
   ]
  },
  {
   "cell_type": "code",
   "execution_count": 62,
   "metadata": {},
   "outputs": [],
   "source": [
    "words_dict = defaultdict(int)\n",
    "sentences_dict = defaultdict(int)"
   ]
  },
  {
   "cell_type": "code",
   "execution_count": 64,
   "metadata": {},
   "outputs": [
    {
     "name": "stdout",
     "output_type": "stream",
     "text": [
      "File:  ['resultsZDN_SR.mat', 'resultsZKH_SR.mat', 'resultsZKB_SR.mat', 'resultsZJN_SR.mat', 'resultsZDM_SR.mat', 'resultsZKW_SR.mat', 'resultsZPH_SR.mat', 'resultsZMG_SR.mat', 'resultsZAB_SR.mat', 'resultsZJM_SR.mat', 'resultsZJS_SR.mat', 'resultsZGW_SR.mat']\n"
     ]
    }
   ],
   "source": [
    "taskfile_paths = [task1_dir, task2_dir, task3_dir]\n",
    "subjects_data = []\n",
    "\n",
    "# First experiment with only the first task (sentiment analysis) data\n",
    "for path in taskfile_paths[0:1]:\n",
    "    print(\"File: \", os.listdir(path))\n",
    "    mat_files = [os.path.join(path,file) for file in os.listdir(path)]\n",
    "    \n",
    "    for filepath in mat_files:\n",
    "        data = io.loadmat(filepath, squeeze_me=True, struct_as_record=False)['sentenceData']\n",
    "\n",
    "        for sent_item in data:\n",
    "            #print(data[0].content)\n",
    "            prc_sent = sent_item.content.strip().lower()\n",
    "            sentences_dict[prc_sent] += 1\n",
    "\n",
    "            for w_item in sent_item.word:\n",
    "                prc_word = w_item.content.strip().lower()\n",
    "                words_dict[prc_word] += 1\n",
    "            break\n",
    "        break\n",
    "    break\n",
    "\n",
    "# # get word level data\n",
    "# word_data = data[0].word\n",
    "# word_data"
   ]
  },
  {
   "cell_type": "code",
   "execution_count": 65,
   "metadata": {},
   "outputs": [
    {
     "data": {
      "text/plain": [
       "defaultdict(int,\n",
       "            {'presents a good case while failing to provide a reason for us to care beyond the very basic dictums of human decency.': 1})"
      ]
     },
     "execution_count": 65,
     "metadata": {},
     "output_type": "execute_result"
    }
   ],
   "source": [
    "sentences_dict"
   ]
  },
  {
   "cell_type": "code",
   "execution_count": 66,
   "metadata": {},
   "outputs": [
    {
     "data": {
      "text/plain": [
       "defaultdict(int,\n",
       "            {'a': 2,\n",
       "             'basic': 1,\n",
       "             'beyond': 1,\n",
       "             'care': 1,\n",
       "             'case': 1,\n",
       "             'decency.': 1,\n",
       "             'dictums': 1,\n",
       "             'failing': 1,\n",
       "             'for': 1,\n",
       "             'good': 1,\n",
       "             'human': 1,\n",
       "             'of': 1,\n",
       "             'presents': 1,\n",
       "             'provide': 1,\n",
       "             'reason': 1,\n",
       "             'the': 1,\n",
       "             'to': 2,\n",
       "             'us': 1,\n",
       "             'very': 1,\n",
       "             'while': 1})"
      ]
     },
     "execution_count": 66,
     "metadata": {},
     "output_type": "execute_result"
    }
   ],
   "source": [
    "words_dict"
   ]
  },
  {
   "cell_type": "code",
   "execution_count": 67,
   "metadata": {},
   "outputs": [],
   "source": [
    "import spacy"
   ]
  },
  {
   "cell_type": "code",
   "execution_count": 68,
   "metadata": {},
   "outputs": [],
   "source": [
    "nlp = spacy.load('en_core_web_sm')"
   ]
  },
  {
   "cell_type": "code",
   "execution_count": 70,
   "metadata": {},
   "outputs": [],
   "source": [
    "import nltk"
   ]
  },
  {
   "cell_type": "code",
   "execution_count": 81,
   "metadata": {},
   "outputs": [
    {
     "ename": "AttributeError",
     "evalue": "'str' object has no attribute 'lemma'",
     "output_type": "error",
     "traceback": [
      "\u001b[0;31m---------------------------------------------------------------------------\u001b[0m",
      "\u001b[0;31mAttributeError\u001b[0m                            Traceback (most recent call last)",
      "\u001b[0;32m<ipython-input-81-0c3becb41094>\u001b[0m in \u001b[0;36m<module>\u001b[0;34m()\u001b[0m\n\u001b[0;32m----> 1\u001b[0;31m \u001b[0mnltk\u001b[0m\u001b[0;34m.\u001b[0m\u001b[0mword_tokenize\u001b[0m\u001b[0;34m(\u001b[0m\u001b[0;34m\"He was falling.\"\u001b[0m\u001b[0;34m)\u001b[0m\u001b[0;34m[\u001b[0m\u001b[0;36m2\u001b[0m\u001b[0;34m]\u001b[0m\u001b[0;34m.\u001b[0m\u001b[0mlemma\u001b[0m\u001b[0;34m\u001b[0m\u001b[0;34m\u001b[0m\u001b[0m\n\u001b[0m",
      "\u001b[0;31mAttributeError\u001b[0m: 'str' object has no attribute 'lemma'"
     ]
    }
   ],
   "source": [
    "nltk.word_tokenize(\"He was falling.\")[2]"
   ]
  },
  {
   "cell_type": "code",
   "execution_count": null,
   "metadata": {},
   "outputs": [],
   "source": []
  },
  {
   "cell_type": "code",
   "execution_count": 85,
   "metadata": {},
   "outputs": [],
   "source": [
    "from nltk.stem import WordNetLemmatizer\n",
    "wordnet_lemmatizer = WordNetLemmatizer()"
   ]
  },
  {
   "cell_type": "code",
   "execution_count": 90,
   "metadata": {},
   "outputs": [
    {
     "data": {
      "text/plain": [
       "[('he', 'PRP'), ('is', 'VBZ'), ('falling', 'VBG')]"
      ]
     },
     "execution_count": 90,
     "metadata": {},
     "output_type": "execute_result"
    }
   ],
   "source": [
    "nltk.pos_tag(['he', 'is', 'falling'])"
   ]
  },
  {
   "cell_type": "code",
   "execution_count": 95,
   "metadata": {},
   "outputs": [
    {
     "data": {
      "text/plain": [
       "'fall'"
      ]
     },
     "execution_count": 95,
     "metadata": {},
     "output_type": "execute_result"
    }
   ],
   "source": [
    "wordnet_lemmatizer.lemmatize('falling', 'v')"
   ]
  },
  {
   "cell_type": "code",
   "execution_count": 96,
   "metadata": {},
   "outputs": [],
   "source": [
    "wordnet_lemmatizer.lemmatize??"
   ]
  },
  {
   "cell_type": "code",
   "execution_count": null,
   "metadata": {},
   "outputs": [],
   "source": []
  },
  {
   "cell_type": "markdown",
   "metadata": {},
   "source": [
    "### Extract data"
   ]
  },
  {
   "cell_type": "code",
   "execution_count": 3,
   "metadata": {},
   "outputs": [
    {
     "name": "stdout",
     "output_type": "stream",
     "text": [
      "\u001b[0m\u001b[38;5;9manswers.zip\u001b[0m  \u001b[38;5;27mscripts\u001b[0m/     \u001b[38;5;27mtask1_sr\u001b[0m/     \u001b[38;5;9mtask2_NR.zip\u001b[0m   \u001b[38;5;9mtask_materials.zip\u001b[0m\r\n",
      "nohup.out    \u001b[38;5;9mscripts.zip\u001b[0m  \u001b[38;5;9mtask1_SR.zip\u001b[0m  \u001b[38;5;9mtask3_TSR.zip\u001b[0m  wget-log\r\n"
     ]
    }
   ],
   "source": [
    "ls $dataset_dir"
   ]
  },
  {
   "cell_type": "code",
   "execution_count": 17,
   "metadata": {},
   "outputs": [],
   "source": [
    "#!unzip ~/ZuCo_dataset/task2_NR.zip -d task2_nr"
   ]
  },
  {
   "cell_type": "code",
   "execution_count": 18,
   "metadata": {},
   "outputs": [],
   "source": [
    "#!unzip ~/ZuCo_dataset/task3_TSR.zip -d task3_tsr"
   ]
  },
  {
   "cell_type": "code",
   "execution_count": 14,
   "metadata": {},
   "outputs": [
    {
     "name": "stdout",
     "output_type": "stream",
     "text": [
      "relations_normal_reading_control_questions.csv  \u001b[0m\u001b[38;5;27mZAB\u001b[0m/  \u001b[38;5;27mZGW\u001b[0m/  \u001b[38;5;27mZJS\u001b[0m/  \u001b[38;5;27mZKW\u001b[0m/\r\n",
      "relations_normal_reading.csv                    \u001b[38;5;27mZDM\u001b[0m/  \u001b[38;5;27mZJM\u001b[0m/  \u001b[38;5;27mZKB\u001b[0m/  \u001b[38;5;27mZMG\u001b[0m/\r\n",
      "sentencesNR.mat                                 \u001b[38;5;27mZDN\u001b[0m/  \u001b[38;5;27mZJN\u001b[0m/  \u001b[38;5;27mZKH\u001b[0m/  \u001b[38;5;27mZPH\u001b[0m/\r\n"
     ]
    }
   ],
   "source": [
    "ls task2_nr/Preprocessed/"
   ]
  },
  {
   "cell_type": "code",
   "execution_count": 16,
   "metadata": {},
   "outputs": [
    {
     "name": "stdout",
     "output_type": "stream",
     "text": [
      "head: cannot open ‘relations_normal_reading.csv’ for reading: No such file or directory\r\n"
     ]
    }
   ],
   "source": [
    "!head relations_normal_reading.csv"
   ]
  },
  {
   "cell_type": "code",
   "execution_count": 19,
   "metadata": {},
   "outputs": [
    {
     "data": {
      "text/plain": [
       "'/home/singh_shruti/workspace/aiproj'"
      ]
     },
     "execution_count": 19,
     "metadata": {},
     "output_type": "execute_result"
    }
   ],
   "source": [
    "pwd"
   ]
  },
  {
   "cell_type": "code",
   "execution_count": 23,
   "metadata": {},
   "outputs": [
    {
     "name": "stdout",
     "output_type": "stream",
     "text": [
      "0_DataExploration.ipynb  nohup.out  \u001b[0m\u001b[38;5;27mscripts\u001b[0m/  utils_ZuCo.py\r\n"
     ]
    }
   ],
   "source": [
    "ls"
   ]
  },
  {
   "cell_type": "code",
   "execution_count": null,
   "metadata": {},
   "outputs": [],
   "source": []
  },
  {
   "cell_type": "code",
   "execution_count": null,
   "metadata": {},
   "outputs": [],
   "source": []
  },
  {
   "cell_type": "markdown",
   "metadata": {},
   "source": [
    "### EEG processing imports"
   ]
  },
  {
   "cell_type": "code",
   "execution_count": 4,
   "metadata": {},
   "outputs": [],
   "source": [
    "from utils_ZuCo import *"
   ]
  },
  {
   "cell_type": "code",
   "execution_count": 5,
   "metadata": {},
   "outputs": [],
   "source": [
    "import os\n",
    "path = \"/home/singh_shruti/ZuCo_dataset/task1_sr/Matlab files/\""
   ]
  },
  {
   "cell_type": "code",
   "execution_count": 21,
   "metadata": {},
   "outputs": [
    {
     "data": {
      "text/plain": [
       "['resultsZDN_SR.mat',\n",
       " 'resultsZKH_SR.mat',\n",
       " 'resultsZKB_SR.mat',\n",
       " 'resultsZJN_SR.mat',\n",
       " 'resultsZDM_SR.mat',\n",
       " 'resultsZKW_SR.mat',\n",
       " 'resultsZPH_SR.mat',\n",
       " 'resultsZMG_SR.mat',\n",
       " 'resultsZAB_SR.mat',\n",
       " 'resultsZJM_SR.mat',\n",
       " 'resultsZJS_SR.mat',\n",
       " 'resultsZGW_SR.mat']"
      ]
     },
     "execution_count": 21,
     "metadata": {},
     "output_type": "execute_result"
    }
   ],
   "source": [
    "os.listdir(path)"
   ]
  },
  {
   "cell_type": "code",
   "execution_count": 19,
   "metadata": {},
   "outputs": [
    {
     "name": "stdout",
     "output_type": "stream",
     "text": [
      "resultsZKH_SR.mat\n",
      "resultsZKB_SR.mat\n",
      "resultsZJN_SR.mat\n",
      "resultsZDM_SR.mat\n",
      "resultsZKW_SR.mat\n",
      "resultsZPH_SR.mat\n",
      "resultsZMG_SR.mat\n",
      "resultsZAB_SR.mat\n",
      "resultsZJM_SR.mat\n",
      "resultsZJS_SR.mat\n",
      "resultsZGW_SR.mat\n"
     ]
    }
   ],
   "source": [
    "for file in os.listdir(path)[1:]:\n",
    "    print(file)"
   ]
  },
  {
   "cell_type": "code",
   "execution_count": 7,
   "metadata": {},
   "outputs": [
    {
     "ename": "NameError",
     "evalue": "name 'files' is not defined",
     "output_type": "error",
     "traceback": [
      "\u001b[0;31m---------------------------------------------------------------------------\u001b[0m",
      "\u001b[0;31mNameError\u001b[0m                                 Traceback (most recent call last)",
      "\u001b[0;32m<ipython-input-7-389a94ad7a32>\u001b[0m in \u001b[0;36m<module>\u001b[0;34m()\u001b[0m\n\u001b[0;32m----> 1\u001b[0;31m \u001b[0mfiles\u001b[0m\u001b[0;34m,\u001b[0m \u001b[0mlen\u001b[0m\u001b[0;34m(\u001b[0m\u001b[0mfiles\u001b[0m\u001b[0;34m)\u001b[0m\u001b[0;34m\u001b[0m\u001b[0;34m\u001b[0m\u001b[0m\n\u001b[0m",
      "\u001b[0;31mNameError\u001b[0m: name 'files' is not defined"
     ]
    }
   ],
   "source": [
    "files, len(files)"
   ]
  },
  {
   "cell_type": "code",
   "execution_count": 17,
   "metadata": {},
   "outputs": [
    {
     "data": {
      "text/plain": [
       "['/home/singh_shruti/ZuCo_dataset/task1_sr/Matlab files/resultsZAB_SR.mat',\n",
       " '/home/singh_shruti/ZuCo_dataset/task1_sr/Matlab files/resultsZDM_SR.mat',\n",
       " '/home/singh_shruti/ZuCo_dataset/task1_sr/Matlab files/resultsZGW_SR.mat',\n",
       " '/home/singh_shruti/ZuCo_dataset/task1_sr/Matlab files/resultsZJM_SR.mat',\n",
       " '/home/singh_shruti/ZuCo_dataset/task1_sr/Matlab files/resultsZJN_SR.mat',\n",
       " '/home/singh_shruti/ZuCo_dataset/task1_sr/Matlab files/resultsZJS_SR.mat',\n",
       " '/home/singh_shruti/ZuCo_dataset/task1_sr/Matlab files/resultsZKB_SR.mat',\n",
       " '/home/singh_shruti/ZuCo_dataset/task1_sr/Matlab files/resultsZKH_SR.mat',\n",
       " '/home/singh_shruti/ZuCo_dataset/task1_sr/Matlab files/resultsZKW_SR.mat',\n",
       " '/home/singh_shruti/ZuCo_dataset/task1_sr/Matlab files/resultsZMG_SR.mat',\n",
       " '/home/singh_shruti/ZuCo_dataset/task1_sr/Matlab files/resultsZPH_SR.mat']"
      ]
     },
     "execution_count": 17,
     "metadata": {},
     "output_type": "execute_result"
    }
   ],
   "source": [
    "sorted(files)"
   ]
  },
  {
   "cell_type": "markdown",
   "metadata": {},
   "source": [
    "### Visualize data"
   ]
  },
  {
   "cell_type": "code",
   "execution_count": 99,
   "metadata": {},
   "outputs": [],
   "source": [
    "# datatransform_t1 = DataTransformer('task1', level='word', scaling='min-max', fillna='zeros')"
   ]
  },
  {
   "cell_type": "code",
   "execution_count": 100,
   "metadata": {},
   "outputs": [],
   "source": [
    "# type(datatransform_t1)"
   ]
  },
  {
   "cell_type": "code",
   "execution_count": 101,
   "metadata": {},
   "outputs": [],
   "source": [
    "# sbjs_t1 = [datatransform_t1(i) for i in range(12)]"
   ]
  },
  {
   "cell_type": "code",
   "execution_count": null,
   "metadata": {},
   "outputs": [],
   "source": []
  },
  {
   "cell_type": "code",
   "execution_count": null,
   "metadata": {},
   "outputs": [],
   "source": []
  },
  {
   "cell_type": "code",
   "execution_count": 97,
   "metadata": {},
   "outputs": [],
   "source": [
    "data = io.loadmat(\"/home/singh_shruti/ZuCo_dataset/task1_sr/Matlab files/resultsZAB_SR.mat\", squeeze_me=True, struct_as_record=False)['sentenceData']"
   ]
  },
  {
   "cell_type": "code",
   "execution_count": 98,
   "metadata": {},
   "outputs": [
    {
     "data": {
      "text/plain": [
       "numpy.ndarray"
      ]
     },
     "execution_count": 98,
     "metadata": {},
     "output_type": "execute_result"
    }
   ],
   "source": [
    "type(data)"
   ]
  },
  {
   "cell_type": "code",
   "execution_count": 103,
   "metadata": {},
   "outputs": [
    {
     "data": {
      "text/plain": [
       "400"
      ]
     },
     "execution_count": 103,
     "metadata": {},
     "output_type": "execute_result"
    }
   ],
   "source": [
    "len(data)"
   ]
  },
  {
   "cell_type": "code",
   "execution_count": 104,
   "metadata": {},
   "outputs": [
    {
     "name": "stdout",
     "output_type": "stream",
     "text": [
      "['content', 'rawData', 'mean_t1', 'mean_t2', 'mean_a1', 'mean_a2', 'mean_b1', 'mean_b2', 'mean_g1', 'mean_g2', 'mean_t1_sec', 'mean_t2_sec', 'mean_a1_sec', 'mean_a2_sec', 'mean_b1_sec', 'mean_b2_sec', 'mean_g1_sec', 'mean_g2_sec', 'mean_t1_diff', 'mean_t2_diff', 'mean_a1_diff', 'mean_a2_diff', 'mean_b1_diff', 'mean_b2_diff', 'mean_g1_diff', 'mean_g2_diff', 'mean_t1_diff_sec', 'mean_t2_diff_sec', 'mean_a1_diff_sec', 'mean_a2_diff_sec', 'mean_b1_diff_sec', 'mean_b2_diff_sec', 'mean_g1_diff_sec', 'mean_g2_diff_sec', 'word', 'omissionRate', 'allFixations', 'wordbounds', 'answer_mean_t1', 'answer_mean_t2', 'answer_mean_a1', 'answer_mean_a2', 'answer_mean_b1', 'answer_mean_b2', 'answer_mean_g1', 'answer_mean_g2', 'answer_mean_t1_diff', 'answer_mean_t2_diff', 'answer_mean_a1_diff', 'answer_mean_a2_diff', 'answer_mean_b1_diff', 'answer_mean_b2_diff', 'answer_mean_g1_diff', 'answer_mean_g2_diff']\n"
     ]
    }
   ],
   "source": [
    "# get all field names for sentence data\n",
    "print(data[0]._fieldnames)"
   ]
  },
  {
   "cell_type": "code",
   "execution_count": 105,
   "metadata": {},
   "outputs": [
    {
     "name": "stdout",
     "output_type": "stream",
     "text": [
      "Presents a good case while failing to provide a reason for us to care beyond the very basic dictums of human decency.\n"
     ]
    }
   ],
   "source": [
    "# example: print sentence\n",
    "print(data[0].content)"
   ]
  },
  {
   "cell_type": "code",
   "execution_count": 112,
   "metadata": {},
   "outputs": [
    {
     "data": {
      "text/plain": [
       "['__class__',\n",
       " '__delattr__',\n",
       " '__dict__',\n",
       " '__dir__',\n",
       " '__doc__',\n",
       " '__eq__',\n",
       " '__format__',\n",
       " '__ge__',\n",
       " '__getattribute__',\n",
       " '__gt__',\n",
       " '__hash__',\n",
       " '__init__',\n",
       " '__init_subclass__',\n",
       " '__le__',\n",
       " '__lt__',\n",
       " '__module__',\n",
       " '__ne__',\n",
       " '__new__',\n",
       " '__reduce__',\n",
       " '__reduce_ex__',\n",
       " '__repr__',\n",
       " '__setattr__',\n",
       " '__sizeof__',\n",
       " '__slotnames__',\n",
       " '__str__',\n",
       " '__subclasshook__',\n",
       " '__weakref__',\n",
       " '_fieldnames',\n",
       " 'allFixations',\n",
       " 'answer_mean_a1',\n",
       " 'answer_mean_a1_diff',\n",
       " 'answer_mean_a2',\n",
       " 'answer_mean_a2_diff',\n",
       " 'answer_mean_b1',\n",
       " 'answer_mean_b1_diff',\n",
       " 'answer_mean_b2',\n",
       " 'answer_mean_b2_diff',\n",
       " 'answer_mean_g1',\n",
       " 'answer_mean_g1_diff',\n",
       " 'answer_mean_g2',\n",
       " 'answer_mean_g2_diff',\n",
       " 'answer_mean_t1',\n",
       " 'answer_mean_t1_diff',\n",
       " 'answer_mean_t2',\n",
       " 'answer_mean_t2_diff',\n",
       " 'content',\n",
       " 'mean_a1',\n",
       " 'mean_a1_diff',\n",
       " 'mean_a1_diff_sec',\n",
       " 'mean_a1_sec',\n",
       " 'mean_a2',\n",
       " 'mean_a2_diff',\n",
       " 'mean_a2_diff_sec',\n",
       " 'mean_a2_sec',\n",
       " 'mean_b1',\n",
       " 'mean_b1_diff',\n",
       " 'mean_b1_diff_sec',\n",
       " 'mean_b1_sec',\n",
       " 'mean_b2',\n",
       " 'mean_b2_diff',\n",
       " 'mean_b2_diff_sec',\n",
       " 'mean_b2_sec',\n",
       " 'mean_g1',\n",
       " 'mean_g1_diff',\n",
       " 'mean_g1_diff_sec',\n",
       " 'mean_g1_sec',\n",
       " 'mean_g2',\n",
       " 'mean_g2_diff',\n",
       " 'mean_g2_diff_sec',\n",
       " 'mean_g2_sec',\n",
       " 'mean_t1',\n",
       " 'mean_t1_diff',\n",
       " 'mean_t1_diff_sec',\n",
       " 'mean_t1_sec',\n",
       " 'mean_t2',\n",
       " 'mean_t2_diff',\n",
       " 'mean_t2_diff_sec',\n",
       " 'mean_t2_sec',\n",
       " 'omissionRate',\n",
       " 'rawData',\n",
       " 'word',\n",
       " 'wordbounds']"
      ]
     },
     "execution_count": 112,
     "metadata": {},
     "output_type": "execute_result"
    }
   ],
   "source": [
    "dir(data[0])"
   ]
  },
  {
   "cell_type": "code",
   "execution_count": 116,
   "metadata": {},
   "outputs": [
    {
     "data": {
      "text/plain": [
       "['content',\n",
       " 'rawData',\n",
       " 'mean_t1',\n",
       " 'mean_t2',\n",
       " 'mean_a1',\n",
       " 'mean_a2',\n",
       " 'mean_b1',\n",
       " 'mean_b2',\n",
       " 'mean_g1',\n",
       " 'mean_g2',\n",
       " 'mean_t1_sec',\n",
       " 'mean_t2_sec',\n",
       " 'mean_a1_sec',\n",
       " 'mean_a2_sec',\n",
       " 'mean_b1_sec',\n",
       " 'mean_b2_sec',\n",
       " 'mean_g1_sec',\n",
       " 'mean_g2_sec',\n",
       " 'mean_t1_diff',\n",
       " 'mean_t2_diff',\n",
       " 'mean_a1_diff',\n",
       " 'mean_a2_diff',\n",
       " 'mean_b1_diff',\n",
       " 'mean_b2_diff',\n",
       " 'mean_g1_diff',\n",
       " 'mean_g2_diff',\n",
       " 'mean_t1_diff_sec',\n",
       " 'mean_t2_diff_sec',\n",
       " 'mean_a1_diff_sec',\n",
       " 'mean_a2_diff_sec',\n",
       " 'mean_b1_diff_sec',\n",
       " 'mean_b2_diff_sec',\n",
       " 'mean_g1_diff_sec',\n",
       " 'mean_g2_diff_sec',\n",
       " 'word',\n",
       " 'omissionRate',\n",
       " 'allFixations',\n",
       " 'wordbounds',\n",
       " 'answer_mean_t1',\n",
       " 'answer_mean_t2',\n",
       " 'answer_mean_a1',\n",
       " 'answer_mean_a2',\n",
       " 'answer_mean_b1',\n",
       " 'answer_mean_b2',\n",
       " 'answer_mean_g1',\n",
       " 'answer_mean_g2',\n",
       " 'answer_mean_t1_diff',\n",
       " 'answer_mean_t2_diff',\n",
       " 'answer_mean_a1_diff',\n",
       " 'answer_mean_a2_diff',\n",
       " 'answer_mean_b1_diff',\n",
       " 'answer_mean_b2_diff',\n",
       " 'answer_mean_g1_diff',\n",
       " 'answer_mean_g2_diff']"
      ]
     },
     "execution_count": 116,
     "metadata": {},
     "output_type": "execute_result"
    }
   ],
   "source": [
    "data[0]._fieldnames"
   ]
  },
  {
   "cell_type": "code",
   "execution_count": 23,
   "metadata": {},
   "outputs": [
    {
     "data": {
      "text/plain": [
       "array([<scipy.io.matlab.mio5_params.mat_struct object at 0x7f9186aa37f0>,\n",
       "       <scipy.io.matlab.mio5_params.mat_struct object at 0x7f9186aa3898>,\n",
       "       <scipy.io.matlab.mio5_params.mat_struct object at 0x7f9186aa38d0>,\n",
       "       <scipy.io.matlab.mio5_params.mat_struct object at 0x7f9186aa3828>,\n",
       "       <scipy.io.matlab.mio5_params.mat_struct object at 0x7f9186aa3860>,\n",
       "       <scipy.io.matlab.mio5_params.mat_struct object at 0x7f9186aa3940>,\n",
       "       <scipy.io.matlab.mio5_params.mat_struct object at 0x7f9186aa39b0>,\n",
       "       <scipy.io.matlab.mio5_params.mat_struct object at 0x7f9186aa3a20>,\n",
       "       <scipy.io.matlab.mio5_params.mat_struct object at 0x7f9186aa3a90>,\n",
       "       <scipy.io.matlab.mio5_params.mat_struct object at 0x7f9186aa3ba8>,\n",
       "       <scipy.io.matlab.mio5_params.mat_struct object at 0x7f9186aa3b00>,\n",
       "       <scipy.io.matlab.mio5_params.mat_struct object at 0x7f9186aa3b70>,\n",
       "       <scipy.io.matlab.mio5_params.mat_struct object at 0x7f9186aa3c18>,\n",
       "       <scipy.io.matlab.mio5_params.mat_struct object at 0x7f9186aa3c88>,\n",
       "       <scipy.io.matlab.mio5_params.mat_struct object at 0x7f9186aa3cf8>,\n",
       "       <scipy.io.matlab.mio5_params.mat_struct object at 0x7f9186aa3d68>,\n",
       "       <scipy.io.matlab.mio5_params.mat_struct object at 0x7f9186aa3dd8>,\n",
       "       <scipy.io.matlab.mio5_params.mat_struct object at 0x7f9186aa3e48>,\n",
       "       <scipy.io.matlab.mio5_params.mat_struct object at 0x7f9186aa3eb8>,\n",
       "       <scipy.io.matlab.mio5_params.mat_struct object at 0x7f9186aa3f28>,\n",
       "       <scipy.io.matlab.mio5_params.mat_struct object at 0x7f91868c7048>,\n",
       "       <scipy.io.matlab.mio5_params.mat_struct object at 0x7f91868c7080>],\n",
       "      dtype=object)"
      ]
     },
     "execution_count": 23,
     "metadata": {},
     "output_type": "execute_result"
    }
   ],
   "source": [
    "# get word level data\n",
    "word_data = data[0].word\n",
    "word_data"
   ]
  },
  {
   "cell_type": "code",
   "execution_count": 106,
   "metadata": {},
   "outputs": [
    {
     "name": "stdout",
     "output_type": "stream",
     "text": [
      "['content', 'fixPositions', 'nFixations', 'meanPupilSize', 'rawEEG', 'rawET', 'FFD', 'FFD_pupilsize', 'FFD_t1', 'FFD_t2', 'FFD_a1', 'FFD_a2', 'FFD_b1', 'FFD_b2', 'FFD_g1', 'FFD_g2', 'FFD_t1_diff', 'FFD_t2_diff', 'FFD_a1_diff', 'FFD_a2_diff', 'FFD_b1_diff', 'FFD_b2_diff', 'FFD_g1_diff', 'FFD_g2_diff', 'TRT', 'TRT_pupilsize', 'TRT_t1', 'TRT_t2', 'TRT_a1', 'TRT_a2', 'TRT_b1', 'TRT_b2', 'TRT_g1', 'TRT_g2', 'TRT_t1_diff', 'TRT_t2_diff', 'TRT_a1_diff', 'TRT_a2_diff', 'TRT_b1_diff', 'TRT_b2_diff', 'TRT_g1_diff', 'TRT_g2_diff', 'GD', 'GD_pupilsize', 'GD_t1', 'GD_t2', 'GD_a1', 'GD_a2', 'GD_b1', 'GD_b2', 'GD_g1', 'GD_g2', 'GD_t1_diff', 'GD_t2_diff', 'GD_a1_diff', 'GD_a2_diff', 'GD_b1_diff', 'GD_b2_diff', 'GD_g1_diff', 'GD_g2_diff', 'GPT', 'GPT_pupilsize', 'GPT_t1', 'GPT_t2', 'GPT_a1', 'GPT_a2', 'GPT_b1', 'GPT_b2', 'GPT_g1', 'GPT_g2', 'GPT_t1_diff', 'GPT_t2_diff', 'GPT_a1_diff', 'GPT_a2_diff', 'GPT_b1_diff', 'GPT_b2_diff', 'GPT_g1_diff', 'GPT_g2_diff', 'SFD', 'SFD_pupilsize', 'SFD_t1', 'SFD_t2', 'SFD_a1', 'SFD_a2', 'SFD_b1', 'SFD_b2', 'SFD_g1', 'SFD_g2', 'SFD_t1_diff', 'SFD_t2_diff', 'SFD_a1_diff', 'SFD_a2_diff', 'SFD_b1_diff', 'SFD_b2_diff', 'SFD_g1_diff', 'SFD_g2_diff']\n"
     ]
    }
   ],
   "source": [
    "# get names of all word features\n",
    "# index of the array `word_data` is the number of the word\n",
    "print(word_data[0]._fieldnames)"
   ]
  },
  {
   "cell_type": "code",
   "execution_count": 107,
   "metadata": {},
   "outputs": [
    {
     "name": "stdout",
     "output_type": "stream",
     "text": [
      "Presents\n"
     ]
    }
   ],
   "source": [
    "# example: get first word\n",
    "print(word_data[0].content)"
   ]
  },
  {
   "cell_type": "code",
   "execution_count": 26,
   "metadata": {},
   "outputs": [
    {
     "name": "stdout",
     "output_type": "stream",
     "text": [
      "4\n"
     ]
    }
   ],
   "source": [
    "# example: get number of fixations of first word\n",
    "print(word_data[0].nFixations)"
   ]
  },
  {
   "cell_type": "code",
   "execution_count": 111,
   "metadata": {},
   "outputs": [
    {
     "data": {
      "text/plain": [
       "(numpy.ndarray, (105,))"
      ]
     },
     "execution_count": 111,
     "metadata": {},
     "output_type": "execute_result"
    }
   ],
   "source": [
    "type(word_data[0].FFD_t2), word_data[0].FFD_t2.shape"
   ]
  },
  {
   "cell_type": "code",
   "execution_count": 110,
   "metadata": {},
   "outputs": [
    {
     "data": {
      "text/plain": [
       "(numpy.ndarray,\n",
       " (105,),\n",
       " array([0.19429664, 0.17923741, 0.36307213, 0.50747943, 0.62206709,\n",
       "        0.51871073, 0.42868289, 0.06850591, 0.28140983, 0.57861644,\n",
       "        1.08024967, 0.36859021, 0.36467823, 0.41722685, 1.14768839,\n",
       "        0.55932534, 0.4871715 , 0.79681689, 0.51210332, 0.40454227,\n",
       "        0.55180544, 0.43953407, 0.75510144, 0.38622764, 0.43004686,\n",
       "        0.29673383, 0.3575944 , 0.36961138, 0.3506383 , 0.85081506,\n",
       "        1.26278675, 0.41491231, 0.3718234 , 0.45663175, 0.42179471,\n",
       "        1.03561676, 0.85461956, 0.43418464, 0.46566522, 0.33808869,\n",
       "        0.49680769, 0.46951395, 0.50899029, 0.15184164, 1.6930244 ,\n",
       "        0.76735342, 0.57302761, 0.94475245, 0.7187323 , 1.07659662,\n",
       "        0.72896671, 1.66536224, 1.39709103, 1.28687668, 1.10441923,\n",
       "        1.43177247, 1.32517946, 1.66541123, 1.60669196, 1.8083328 ,\n",
       "        1.39522731, 1.99193358, 1.38413417, 1.54831302, 1.34435618,\n",
       "        1.0585711 , 0.49228552, 1.85182977, 1.85807848, 1.41647136,\n",
       "        1.35392964, 1.03962433, 0.85793865, 2.1952467 , 2.17580271,\n",
       "        2.02598214, 1.63932216, 1.00376701, 1.78744721, 1.96237218,\n",
       "        1.51004064, 1.01614249, 1.20013535, 1.12757885, 0.83896005,\n",
       "        0.99863309, 0.65768403, 0.33150849, 0.16545779, 0.56242204,\n",
       "        1.09004402, 0.59104663, 0.56140357, 0.38477388, 0.60919583,\n",
       "        0.58260262, 0.59866726, 0.35624093, 0.37161309, 0.18472035,\n",
       "        0.93358988, 0.49549541, 0.34883159, 0.24064931, 0.        ]))"
      ]
     },
     "execution_count": 110,
     "metadata": {},
     "output_type": "execute_result"
    }
   ],
   "source": [
    "type(word_data[0].FFD_t1), word_data[0].FFD_t1.shape, word_data[0].FFD_t1"
   ]
  },
  {
   "cell_type": "code",
   "execution_count": 27,
   "metadata": {},
   "outputs": [],
   "source": [
    "eeg_features_list = ['FFD_t1', 'FFD_t2', 'FFD_a1', 'FFD_a2', 'FFD_b1', 'FFD_b2', \n",
    "                     'FFD_g1', 'FFD_g2', 'TRT_t1', 'TRT_t2', 'TRT_a1', 'TRT_a2', \n",
    "                     'TRT_b1', 'TRT_b2', 'TRT_g1', 'TRT_g2', 'GD_t1', 'GD_t2', \n",
    "                     'GD_a1', 'GD_a2', 'GD_b1', 'GD_b2', 'GD_g1', 'GD_g2', 'GPT_t1', \n",
    "                     'GPT_t2', 'GPT_a1', 'GPT_a2', 'GPT_b1', 'GPT_b2', 'GPT_g1', \n",
    "                     'GPT_g2',  'SFD_t1', 'SFD_t2', 'SFD_a1', 'SFD_a2', 'SFD_b1', \n",
    "                     'SFD_b2', 'SFD_g1', 'SFD_g2']"
   ]
  },
  {
   "cell_type": "code",
   "execution_count": 34,
   "metadata": {},
   "outputs": [],
   "source": [
    "for i in eeg_features_list:\n",
    "    if not i in word_data[0]._fieldnames:\n",
    "        print(i)"
   ]
  },
  {
   "cell_type": "code",
   "execution_count": 33,
   "metadata": {},
   "outputs": [
    {
     "ename": "TypeError",
     "evalue": "object of type 'mat_struct' has no len()",
     "output_type": "error",
     "traceback": [
      "\u001b[0;31m---------------------------------------------------------------------------\u001b[0m",
      "\u001b[0;31mTypeError\u001b[0m                                 Traceback (most recent call last)",
      "\u001b[0;32m<ipython-input-33-43ce602026ca>\u001b[0m in \u001b[0;36m<module>\u001b[0;34m()\u001b[0m\n\u001b[1;32m      2\u001b[0m \u001b[0;34m\u001b[0m\u001b[0m\n\u001b[1;32m      3\u001b[0m \u001b[0;32mfor\u001b[0m \u001b[0mi\u001b[0m \u001b[0;32min\u001b[0m \u001b[0meeg_features_list\u001b[0m\u001b[0;34m:\u001b[0m\u001b[0;34m\u001b[0m\u001b[0;34m\u001b[0m\u001b[0m\n\u001b[0;32m----> 4\u001b[0;31m     \u001b[0marr_sizes\u001b[0m\u001b[0;34m.\u001b[0m\u001b[0mappend\u001b[0m\u001b[0;34m(\u001b[0m\u001b[0mlen\u001b[0m\u001b[0;34m(\u001b[0m\u001b[0mword_data\u001b[0m\u001b[0;34m[\u001b[0m\u001b[0;36m0\u001b[0m\u001b[0;34m]\u001b[0m\u001b[0;34m)\u001b[0m\u001b[0;34m)\u001b[0m\u001b[0;34m\u001b[0m\u001b[0;34m\u001b[0m\u001b[0m\n\u001b[0m\u001b[1;32m      5\u001b[0m \u001b[0;34m\u001b[0m\u001b[0m\n",
      "\u001b[0;31mTypeError\u001b[0m: object of type 'mat_struct' has no len()"
     ]
    }
   ],
   "source": [
    "arr_sizes = []\n",
    "\n",
    "for i in eeg_features_list:\n",
    "    arr_sizes.append(len(word_data[0]))\n",
    "        "
   ]
  },
  {
   "cell_type": "code",
   "execution_count": 36,
   "metadata": {},
   "outputs": [
    {
     "data": {
      "text/plain": [
       "['FFD',\n",
       " 'FFD_a1',\n",
       " 'FFD_a1_diff',\n",
       " 'FFD_a2',\n",
       " 'FFD_a2_diff',\n",
       " 'FFD_b1',\n",
       " 'FFD_b1_diff',\n",
       " 'FFD_b2',\n",
       " 'FFD_b2_diff',\n",
       " 'FFD_g1',\n",
       " 'FFD_g1_diff',\n",
       " 'FFD_g2',\n",
       " 'FFD_g2_diff',\n",
       " 'FFD_pupilsize',\n",
       " 'FFD_t1',\n",
       " 'FFD_t1_diff',\n",
       " 'FFD_t2',\n",
       " 'FFD_t2_diff',\n",
       " 'GD',\n",
       " 'GD_a1',\n",
       " 'GD_a1_diff',\n",
       " 'GD_a2',\n",
       " 'GD_a2_diff',\n",
       " 'GD_b1',\n",
       " 'GD_b1_diff',\n",
       " 'GD_b2',\n",
       " 'GD_b2_diff',\n",
       " 'GD_g1',\n",
       " 'GD_g1_diff',\n",
       " 'GD_g2',\n",
       " 'GD_g2_diff',\n",
       " 'GD_pupilsize',\n",
       " 'GD_t1',\n",
       " 'GD_t1_diff',\n",
       " 'GD_t2',\n",
       " 'GD_t2_diff',\n",
       " 'GPT',\n",
       " 'GPT_a1',\n",
       " 'GPT_a1_diff',\n",
       " 'GPT_a2',\n",
       " 'GPT_a2_diff',\n",
       " 'GPT_b1',\n",
       " 'GPT_b1_diff',\n",
       " 'GPT_b2',\n",
       " 'GPT_b2_diff',\n",
       " 'GPT_g1',\n",
       " 'GPT_g1_diff',\n",
       " 'GPT_g2',\n",
       " 'GPT_g2_diff',\n",
       " 'GPT_pupilsize',\n",
       " 'GPT_t1',\n",
       " 'GPT_t1_diff',\n",
       " 'GPT_t2',\n",
       " 'GPT_t2_diff',\n",
       " 'SFD',\n",
       " 'SFD_a1',\n",
       " 'SFD_a1_diff',\n",
       " 'SFD_a2',\n",
       " 'SFD_a2_diff',\n",
       " 'SFD_b1',\n",
       " 'SFD_b1_diff',\n",
       " 'SFD_b2',\n",
       " 'SFD_b2_diff',\n",
       " 'SFD_g1',\n",
       " 'SFD_g1_diff',\n",
       " 'SFD_g2',\n",
       " 'SFD_g2_diff',\n",
       " 'SFD_pupilsize',\n",
       " 'SFD_t1',\n",
       " 'SFD_t1_diff',\n",
       " 'SFD_t2',\n",
       " 'SFD_t2_diff',\n",
       " 'TRT',\n",
       " 'TRT_a1',\n",
       " 'TRT_a1_diff',\n",
       " 'TRT_a2',\n",
       " 'TRT_a2_diff',\n",
       " 'TRT_b1',\n",
       " 'TRT_b1_diff',\n",
       " 'TRT_b2',\n",
       " 'TRT_b2_diff',\n",
       " 'TRT_g1',\n",
       " 'TRT_g1_diff',\n",
       " 'TRT_g2',\n",
       " 'TRT_g2_diff',\n",
       " 'TRT_pupilsize',\n",
       " 'TRT_t1',\n",
       " 'TRT_t1_diff',\n",
       " 'TRT_t2',\n",
       " 'TRT_t2_diff',\n",
       " '__class__',\n",
       " '__delattr__',\n",
       " '__dict__',\n",
       " '__dir__',\n",
       " '__doc__',\n",
       " '__eq__',\n",
       " '__format__',\n",
       " '__ge__',\n",
       " '__getattribute__',\n",
       " '__gt__',\n",
       " '__hash__',\n",
       " '__init__',\n",
       " '__init_subclass__',\n",
       " '__le__',\n",
       " '__lt__',\n",
       " '__module__',\n",
       " '__ne__',\n",
       " '__new__',\n",
       " '__reduce__',\n",
       " '__reduce_ex__',\n",
       " '__repr__',\n",
       " '__setattr__',\n",
       " '__sizeof__',\n",
       " '__slotnames__',\n",
       " '__str__',\n",
       " '__subclasshook__',\n",
       " '__weakref__',\n",
       " '_fieldnames',\n",
       " 'content',\n",
       " 'fixPositions',\n",
       " 'meanPupilSize',\n",
       " 'nFixations',\n",
       " 'rawEEG',\n",
       " 'rawET']"
      ]
     },
     "execution_count": 36,
     "metadata": {},
     "output_type": "execute_result"
    }
   ],
   "source": [
    "dir(word_data[0])"
   ]
  },
  {
   "cell_type": "code",
   "execution_count": 41,
   "metadata": {},
   "outputs": [
    {
     "data": {
      "text/plain": [
       "array([], dtype=float64)"
      ]
     },
     "execution_count": 41,
     "metadata": {},
     "output_type": "execute_result"
    }
   ],
   "source": [
    "word_data[0].SFD_g2"
   ]
  },
  {
   "cell_type": "code",
   "execution_count": 39,
   "metadata": {},
   "outputs": [
    {
     "data": {
      "text/plain": [
       "'SFD_g2'"
      ]
     },
     "execution_count": 39,
     "metadata": {},
     "output_type": "execute_result"
    }
   ],
   "source": [
    "i"
   ]
  },
  {
   "cell_type": "code",
   "execution_count": null,
   "metadata": {},
   "outputs": [],
   "source": []
  }
 ],
 "metadata": {
  "kernelspec": {
   "display_name": "Python 3",
   "language": "python",
   "name": "python3"
  },
  "language_info": {
   "codemirror_mode": {
    "name": "ipython",
    "version": 3
   },
   "file_extension": ".py",
   "mimetype": "text/x-python",
   "name": "python",
   "nbconvert_exporter": "python",
   "pygments_lexer": "ipython3",
   "version": "3.6.8"
  }
 },
 "nbformat": 4,
 "nbformat_minor": 2
}
